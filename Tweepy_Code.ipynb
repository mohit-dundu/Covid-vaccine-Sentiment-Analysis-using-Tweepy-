{
 "cells": [
  {
   "cell_type": "code",
   "execution_count": 1,
   "metadata": {},
   "outputs": [
    {
     "name": "stdout",
     "output_type": "stream",
     "text": [
      "C:\\Users\\dundu\\anaconda3\\python.exe\n"
     ]
    }
   ],
   "source": [
    "import sys\n",
    "print(sys.executable)"
   ]
  },
  {
   "cell_type": "code",
   "execution_count": 2,
   "metadata": {},
   "outputs": [],
   "source": [
    "import tweepy"
   ]
  },
  {
   "cell_type": "code",
   "execution_count": 3,
   "metadata": {},
   "outputs": [],
   "source": [
    "# Authentication\n",
    "consumer_key = 'jN7nnc2kwDxO4KZLsIHOMABzW'\n",
    "consumer_secret = 'WoVn5FCrF1cyCKE2u3pNwj8QIQUAOHcxN8NwEPCiEYMmRGFaUH'\n",
    "access_token = '700571818554294272-F7h8jOrNcDcAYRAyUicBusxtAbZnaQx'\n",
    "access_token_secret = 'udku6ODJV5c3vH6nyVfIHrJgXupv0p30ynnOWCYA7bnsv'\n",
    "bearer_token = 'AAAAAAAAAAAAAAAAAAAAANQtfAEAAAAAE%2BUOmjOk3ez15RR1LTKaDtQzVwE%3D8UXV8yoTrACWPNOyvNJ1ruGiTH8NC0z23ov7txX1Wd75UoBGUA'\n",
    "# auth = tweepy.OAuthHandler(consumer_key, consumerSecret)\n",
    "# auth.set_access_token(accessToken, accessTokenSecret)\n",
    "# api = tweepy.API(auth)"
   ]
  },
  {
   "cell_type": "code",
   "execution_count": 4,
   "metadata": {},
   "outputs": [],
   "source": [
    "import requests\n",
    "\n",
    "client = tweepy.Client( bearer_token=bearer_token, \n",
    "                        consumer_key=consumer_key, \n",
    "                        consumer_secret=consumer_secret, \n",
    "                        access_token=access_token, \n",
    "                        access_token_secret=access_token_secret, \n",
    "                        return_type = requests.Response,\n",
    "                        wait_on_rate_limit=True)"
   ]
  },
  {
   "cell_type": "code",
   "execution_count": 9,
   "metadata": {},
   "outputs": [],
   "source": [
    "import pandas as pd\n",
    "#client = tweepy.Client(consumer_key= consumer_key,consumer_secret= consumer_secret,access_token= access_token,access_token_secret= access_token_secret)\n",
    "queries = ['vaccination', 'pfizer','BioNTech','covaxin','covishield','cowin','astrazeneca','sputnik-v','sinovac','sinopharm',\\\n",
    "          'Quarantine','Pandemic','covid-19 Brazil','covid-19 Canada','covid-19 Australia','Covid-19 USA','Covid-19 America',\\\n",
    "          'J&j Vaccine', 'Janssen Vaccine']\n",
    "count = 0\n",
    "for i in queries:\n",
    "    query = i + ' lang:en'\n",
    "    # tweets = tweepy.Paginator(client.search_recent_tweets, query=query,\n",
    "    #                               tweet_fields=['author_id','context_annotations', 'created_at'], max_results=100).flatten(limit=1000)\n",
    "    tweets = client.search_recent_tweets(query=query, \n",
    "                                        tweet_fields=['author_id','context_annotations', 'created_at'],\n",
    "                                         max_results=100)\n",
    "\n",
    "    # Save data as dictionary\n",
    "    tweets_dict = tweets.json() \n",
    "\n",
    "    # Extract \"data\" value from dictionary\n",
    "    tweets_data = tweets_dict['data'] \n",
    "\n",
    "    # Transform to pandas Dataframe\n",
    "    df = pd.json_normalize(tweets_data)\n",
    "    filename = str(count) + '-' + queries [count] + '.csv'\n",
    "    df.to_csv(filename)\n",
    "    count += 1"
   ]
  },
  {
   "cell_type": "code",
   "execution_count": null,
   "metadata": {},
   "outputs": [],
   "source": [
    "print(type(tweets))"
   ]
  },
  {
   "cell_type": "code",
   "execution_count": null,
   "metadata": {},
   "outputs": [],
   "source": [
    "import pandas as pd\n",
    "\n",
    "# Save data as dictionary\n",
    "tweets_dict = tweets.json() \n",
    "\n",
    "# Extract \"data\" value from dictionary\n",
    "tweets_data = tweets_dict['data'] \n",
    "\n",
    "# Transform to pandas Dataframe\n",
    "df = pd.json_normalize(tweets_data)\n"
   ]
  },
  {
   "cell_type": "code",
   "execution_count": null,
   "metadata": {},
   "outputs": [],
   "source": [
    "df"
   ]
  },
  {
   "cell_type": "code",
   "execution_count": null,
   "metadata": {},
   "outputs": [],
   "source": [
    "df.to_csv(\"2-vaccination.csv\")"
   ]
  },
  {
   "cell_type": "code",
   "execution_count": 12,
   "metadata": {},
   "outputs": [],
   "source": [
    "\n",
    "# importing libraries\n",
    "import pandas as pd\n",
    "import glob\n",
    "import os\n",
    "  \n",
    "# merging the files\n",
    "joined_files = os.path.join(r\"C:\\Users\\dundu\\OneDrive\\Desktop\\Web_Social_Project\\MY_DATA\\\\\", \"*.csv\")\n",
    "  \n",
    "# A list of all joined files is returned\n",
    "joined_list = glob.glob(joined_files)\n",
    "  \n",
    "# Finally, the files are joined\n",
    "df1 = pd.concat(map(pd.read_csv, joined_list), ignore_index=True)\n",
    "#print(df)\n",
    "df1.to_csv(\"MAIN_MOHIT.csv\")"
   ]
  },
  {
   "cell_type": "code",
   "execution_count": null,
   "metadata": {},
   "outputs": [],
   "source": []
  }
 ],
 "metadata": {
  "kernelspec": {
   "display_name": "myenv",
   "language": "python",
   "name": "myenv"
  },
  "language_info": {
   "codemirror_mode": {
    "name": "ipython",
    "version": 3
   },
   "file_extension": ".py",
   "mimetype": "text/x-python",
   "name": "python",
   "nbconvert_exporter": "python",
   "pygments_lexer": "ipython3",
   "version": "3.8.5"
  }
 },
 "nbformat": 4,
 "nbformat_minor": 4
}
